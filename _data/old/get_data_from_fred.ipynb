{
 "cells": [
  {
   "cell_type": "code",
   "execution_count": 6,
   "metadata": {},
   "outputs": [],
   "source": [
    "from fredapi import Fred\n",
    "import pandas as pd\n",
    "import numpy as np\n",
    "import matplotlib.pyplot as plt"
   ]
  },
  {
   "cell_type": "code",
   "execution_count": 17,
   "metadata": {},
   "outputs": [],
   "source": [
    "fred = Fred(api_key='2a30ab0179c95118efe955d2b3822473')\n",
    "\n",
    "# write there the code of the series you want\n",
    "series_to_get = ['CPIAUCSL', #CPI\n",
    "    'CPILFESL', #Core CPI\n",
    "    'FF', #fed funds rate\n",
    "    'TB3MS', #3 months interest rate\n",
    "    'GS10', #Market Yield on U.S. Treasury Securities at 10-Year Constant Maturity, Quoted on an Investment Basis\n",
    "    'INDPRO', #industrial production\n",
    "    'UNRATE', #unemployment rate\n",
    "    'DPCERA3M086SBEA', #real PCE\n",
    "    'AHETPI', #Average Hourly Earnings of All Employees, Total Private\n",
    "    'WTISPLC' #WTI Oil Price\n",
    "]\n",
    "\n",
    "df = {}\n",
    "\n",
    "for series in series_to_get: \n",
    "    df[series] = fred.get_series(series,\n",
    "                       frequency = 'm',\n",
    "                       observation_start = '1974-01-01',\n",
    "                       observation_end = '2022-12-31',\n",
    "                       aggregation_method = 'eop')\n",
    "    \n",
    "#agg method = eop uses end of period\n",
    "# convert to pandas data frame\n",
    "data_use = pd.DataFrame.from_dict(df)"
   ]
  },
  {
   "cell_type": "code",
   "execution_count": 18,
   "metadata": {},
   "outputs": [],
   "source": [
    "data_use.to_csv('macro_vars.csv')"
   ]
  },
  {
   "cell_type": "code",
   "execution_count": 16,
   "metadata": {},
   "outputs": [
    {
     "data": {
      "text/plain": [
       "1974-01-01     45.6298\n",
       "1974-02-01     45.4951\n",
       "1974-03-01     45.4952\n",
       "1974-04-01     45.3625\n",
       "1974-05-01     45.7241\n",
       "                ...   \n",
       "2022-08-01    104.4696\n",
       "2022-09-01    104.8292\n",
       "2022-10-01    104.7972\n",
       "2022-11-01    104.1863\n",
       "2022-12-01    103.4332\n",
       "Freq: MS, Name: INDPRO, Length: 588, dtype: float64"
      ]
     },
     "execution_count": 16,
     "metadata": {},
     "output_type": "execute_result"
    }
   ],
   "source": [
    "data_use['INDPRO']"
   ]
  },
  {
   "cell_type": "code",
   "execution_count": null,
   "metadata": {},
   "outputs": [],
   "source": []
  }
 ],
 "metadata": {
  "kernelspec": {
   "display_name": "Python 3",
   "language": "python",
   "name": "python3"
  },
  "language_info": {
   "codemirror_mode": {
    "name": "ipython",
    "version": 3
   },
   "file_extension": ".py",
   "mimetype": "text/x-python",
   "name": "python",
   "nbconvert_exporter": "python",
   "pygments_lexer": "ipython3",
   "version": "3.8.5"
  }
 },
 "nbformat": 4,
 "nbformat_minor": 4
}
